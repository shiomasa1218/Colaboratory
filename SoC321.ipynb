{
  "nbformat": 4,
  "nbformat_minor": 0,
  "metadata": {
    "colab": {
      "name": "SoC321.ipynb",
      "version": "0.3.2",
      "provenance": [],
      "collapsed_sections": [],
      "include_colab_link": true
    },
    "kernelspec": {
      "name": "python3",
      "display_name": "Python 3"
    },
    "accelerator": "GPU"
  },
  "cells": [
    {
      "cell_type": "markdown",
      "metadata": {
        "id": "view-in-github",
        "colab_type": "text"
      },
      "source": [
        "<a href=\"https://colab.research.google.com/github/shiomasa1218/Colaboratory/blob/master/SoC321.ipynb\" target=\"_parent\"><img src=\"https://colab.research.google.com/assets/colab-badge.svg\" alt=\"Open In Colab\"/></a>"
      ]
    },
    {
      "metadata": {
        "id": "u2DXHgAq-QdK",
        "colab_type": "code",
        "outputId": "98c307f6-ae12-47ba-c621-850a4e592e9b",
        "colab": {
          "base_uri": "https://localhost:8080/",
          "height": 122
        }
      },
      "cell_type": "code",
      "source": [
        "from google.colab import drive\n",
        "drive.mount('/content/gdrive')"
      ],
      "execution_count": 0,
      "outputs": [
        {
          "output_type": "stream",
          "text": [
            "Go to this URL in a browser: https://accounts.google.com/o/oauth2/auth?client_id=947318989803-6bn6qk8qdgf4n4g3pfee6491hc0brc4i.apps.googleusercontent.com&redirect_uri=urn%3Aietf%3Awg%3Aoauth%3A2.0%3Aoob&scope=email%20https%3A%2F%2Fwww.googleapis.com%2Fauth%2Fdocs.test%20https%3A%2F%2Fwww.googleapis.com%2Fauth%2Fdrive%20https%3A%2F%2Fwww.googleapis.com%2Fauth%2Fdrive.photos.readonly%20https%3A%2F%2Fwww.googleapis.com%2Fauth%2Fpeopleapi.readonly&response_type=code\n",
            "\n",
            "Enter your authorization code:\n",
            "··········\n",
            "Mounted at /content/gdrive\n"
          ],
          "name": "stdout"
        }
      ]
    },
    {
      "metadata": {
        "id": "trfp-xvj-TgB",
        "colab_type": "code",
        "outputId": "7d869dec-61ab-4bb0-8e96-869771ad3dee",
        "colab": {
          "base_uri": "https://localhost:8080/",
          "height": 85
        }
      },
      "cell_type": "code",
      "source": [
        "# drive mean root directory of  google drive\n",
        "!ls ./gdrive/'My Drive'/'Kumamoto-Univ'/'Graduationwork'/'exefolder'/'test_folder_name'"
      ],
      "execution_count": 0,
      "outputs": [
        {
          "output_type": "stream",
          "text": [
            "carpet1_2.0_afterlinear   sponge-y_2.0_afterlinear\n",
            "carpet2_2.0_afterlinear   stonetile1_2.0_afterlinear\n",
            "carpet3_2.0_afterlinear   whiteitile1_2.0_afterlinear\n",
            "sponge-g_2.0_afterlinear  woodtile1_2.0_afterlinear\n"
          ],
          "name": "stdout"
        }
      ]
    },
    {
      "metadata": {
        "id": "Zw_5NFXE-WTR",
        "colab_type": "code",
        "outputId": "e10391f6-6493-40a6-8cea-c60df23620c5",
        "colab": {
          "base_uri": "https://localhost:8080/",
          "height": 51
        }
      },
      "cell_type": "code",
      "source": [
        "# This only needs to be done once per notebook.\n",
        "!pip install -U -q PyDrive\n",
        "from pydrive.auth import GoogleAuth\n",
        "from pydrive.drive import GoogleDrive\n",
        "from google.colab import auth\n",
        "from oauth2client.client import GoogleCredentials\n",
        "\n",
        "# check auth\n",
        "auth.authenticate_user()\n",
        "gauth = GoogleAuth()\n",
        "gauth.credentials = GoogleCredentials.get_application_default()\n",
        "drive = GoogleDrive(gauth)"
      ],
      "execution_count": 0,
      "outputs": [
        {
          "output_type": "stream",
          "text": [
            "\u001b[?25l\r\u001b[K    1% |▎                               | 10kB 19.9MB/s eta 0:00:01\r\u001b[K    2% |▋                               | 20kB 1.7MB/s eta 0:00:01\r\u001b[K    3% |█                               | 30kB 2.5MB/s eta 0:00:01\r\u001b[K    4% |█▎                              | 40kB 1.7MB/s eta 0:00:01\r\u001b[K    5% |█▋                              | 51kB 2.1MB/s eta 0:00:01\r\u001b[K    6% |██                              | 61kB 2.5MB/s eta 0:00:01\r\u001b[K    7% |██▎                             | 71kB 2.9MB/s eta 0:00:01\r\u001b[K    8% |██▋                             | 81kB 3.3MB/s eta 0:00:01\r\u001b[K    9% |███                             | 92kB 3.6MB/s eta 0:00:01\r\u001b[K    10% |███▎                            | 102kB 2.8MB/s eta 0:00:01\r\u001b[K    11% |███▋                            | 112kB 2.8MB/s eta 0:00:01\r\u001b[K    12% |████                            | 122kB 4.0MB/s eta 0:00:01\r\u001b[K    13% |████▎                           | 133kB 4.0MB/s eta 0:00:01\r\u001b[K    14% |████▋                           | 143kB 7.6MB/s eta 0:00:01\r\u001b[K    15% |█████                           | 153kB 7.6MB/s eta 0:00:01\r\u001b[K    16% |█████▎                          | 163kB 7.6MB/s eta 0:00:01\r\u001b[K    17% |█████▋                          | 174kB 7.5MB/s eta 0:00:01\r\u001b[K    18% |██████                          | 184kB 7.5MB/s eta 0:00:01\r\u001b[K    19% |██████▎                         | 194kB 7.5MB/s eta 0:00:01\r\u001b[K    20% |██████▋                         | 204kB 8.0MB/s eta 0:00:01\r\u001b[K    21% |███████                         | 215kB 8.1MB/s eta 0:00:01\r\u001b[K    22% |███████▎                        | 225kB 8.1MB/s eta 0:00:01\r\u001b[K    23% |███████▋                        | 235kB 8.1MB/s eta 0:00:01\r\u001b[K    24% |████████                        | 245kB 8.1MB/s eta 0:00:01\r\u001b[K    25% |████████▎                       | 256kB 8.1MB/s eta 0:00:01\r\u001b[K    26% |████████▋                       | 266kB 8.0MB/s eta 0:00:01\r\u001b[K    27% |█████████                       | 276kB 8.1MB/s eta 0:00:01\r\u001b[K    29% |█████████▎                      | 286kB 8.1MB/s eta 0:00:01\r\u001b[K    30% |█████████▋                      | 296kB 8.1MB/s eta 0:00:01\r\u001b[K    31% |██████████                      | 307kB 43.1MB/s eta 0:00:01\r\u001b[K    32% |██████████▎                     | 317kB 42.9MB/s eta 0:00:01\r\u001b[K    33% |██████████▋                     | 327kB 44.6MB/s eta 0:00:01\r\u001b[K    34% |███████████                     | 337kB 45.7MB/s eta 0:00:01\r\u001b[K    35% |███████████▎                    | 348kB 42.4MB/s eta 0:00:01\r\u001b[K    36% |███████████▋                    | 358kB 42.3MB/s eta 0:00:01\r\u001b[K    37% |████████████                    | 368kB 47.2MB/s eta 0:00:01\r\u001b[K    38% |████████████▎                   | 378kB 47.6MB/s eta 0:00:01\r\u001b[K    39% |████████████▋                   | 389kB 48.1MB/s eta 0:00:01\r\u001b[K    40% |█████████████                   | 399kB 9.9MB/s eta 0:00:01\r\u001b[K    41% |█████████████▎                  | 409kB 9.8MB/s eta 0:00:01\r\u001b[K    42% |█████████████▋                  | 419kB 9.8MB/s eta 0:00:01\r\u001b[K    43% |██████████████                  | 430kB 9.8MB/s eta 0:00:01\r\u001b[K    44% |██████████████▎                 | 440kB 9.7MB/s eta 0:00:01\r\u001b[K    45% |██████████████▋                 | 450kB 9.8MB/s eta 0:00:01\r\u001b[K    46% |███████████████                 | 460kB 9.8MB/s eta 0:00:01\r\u001b[K    47% |███████████████▎                | 471kB 9.8MB/s eta 0:00:01\r\u001b[K    48% |███████████████▋                | 481kB 9.8MB/s eta 0:00:01\r\u001b[K    49% |████████████████                | 491kB 9.8MB/s eta 0:00:01\r\u001b[K    50% |████████████████▎               | 501kB 46.1MB/s eta 0:00:01\r\u001b[K    51% |████████████████▋               | 512kB 44.5MB/s eta 0:00:01\r\u001b[K    52% |█████████████████               | 522kB 46.8MB/s eta 0:00:01\r\u001b[K    53% |█████████████████▎              | 532kB 47.5MB/s eta 0:00:01\r\u001b[K    54% |█████████████████▋              | 542kB 48.3MB/s eta 0:00:01\r\u001b[K    55% |██████████████████              | 552kB 51.7MB/s eta 0:00:01\r\u001b[K    57% |██████████████████▎             | 563kB 51.9MB/s eta 0:00:01\r\u001b[K    58% |██████████████████▋             | 573kB 50.4MB/s eta 0:00:01\r\u001b[K    59% |███████████████████             | 583kB 50.5MB/s eta 0:00:01\r\u001b[K    60% |███████████████████▎            | 593kB 50.7MB/s eta 0:00:01\r\u001b[K    61% |███████████████████▋            | 604kB 51.2MB/s eta 0:00:01\r\u001b[K    62% |████████████████████            | 614kB 54.8MB/s eta 0:00:01\r\u001b[K    63% |████████████████████▎           | 624kB 53.9MB/s eta 0:00:01\r\u001b[K    64% |████████████████████▋           | 634kB 54.0MB/s eta 0:00:01\r\u001b[K    65% |█████████████████████           | 645kB 52.5MB/s eta 0:00:01\r\u001b[K    66% |█████████████████████▎          | 655kB 51.6MB/s eta 0:00:01\r\u001b[K    67% |█████████████████████▋          | 665kB 42.8MB/s eta 0:00:01\r\u001b[K    68% |██████████████████████          | 675kB 11.5MB/s eta 0:00:01\r\u001b[K    69% |██████████████████████▎         | 686kB 11.4MB/s eta 0:00:01\r\u001b[K    70% |██████████████████████▋         | 696kB 11.3MB/s eta 0:00:01\r\u001b[K    71% |███████████████████████         | 706kB 11.3MB/s eta 0:00:01\r\u001b[K    72% |███████████████████████▎        | 716kB 11.3MB/s eta 0:00:01\r\u001b[K    73% |███████████████████████▋        | 727kB 11.3MB/s eta 0:00:01\r\u001b[K    74% |████████████████████████        | 737kB 11.3MB/s eta 0:00:01\r\u001b[K    75% |████████████████████████▎       | 747kB 11.3MB/s eta 0:00:01\r\u001b[K    76% |████████████████████████▋       | 757kB 11.3MB/s eta 0:00:01\r\u001b[K    77% |████████████████████████▉       | 768kB 11.9MB/s eta 0:00:01\r\u001b[K    78% |█████████████████████████▏      | 778kB 48.3MB/s eta 0:00:01\r\u001b[K    79% |█████████████████████████▌      | 788kB 51.5MB/s eta 0:00:01\r\u001b[K    80% |█████████████████████████▉      | 798kB 52.3MB/s eta 0:00:01\r\u001b[K    81% |██████████████████████████▏     | 808kB 52.3MB/s eta 0:00:01\r\u001b[K    82% |██████████████████████████▌     | 819kB 51.1MB/s eta 0:00:01\r\u001b[K    83% |██████████████████████████▉     | 829kB 51.2MB/s eta 0:00:01\r\u001b[K    85% |███████████████████████████▏    | 839kB 51.3MB/s eta 0:00:01\r\u001b[K    86% |███████████████████████████▌    | 849kB 51.9MB/s eta 0:00:01\r\u001b[K    87% |███████████████████████████▉    | 860kB 49.1MB/s eta 0:00:01\r\u001b[K    88% |████████████████████████████▏   | 870kB 48.5MB/s eta 0:00:01\r\u001b[K    89% |████████████████████████████▌   | 880kB 48.6MB/s eta 0:00:01\r\u001b[K    90% |████████████████████████████▉   | 890kB 48.6MB/s eta 0:00:01\r\u001b[K    91% |█████████████████████████████▏  | 901kB 47.7MB/s eta 0:00:01\r\u001b[K    92% |█████████████████████████████▌  | 911kB 48.3MB/s eta 0:00:01\r\u001b[K    93% |█████████████████████████████▉  | 921kB 49.7MB/s eta 0:00:01\r\u001b[K    94% |██████████████████████████████▏ | 931kB 50.3MB/s eta 0:00:01\r\u001b[K    95% |██████████████████████████████▌ | 942kB 50.7MB/s eta 0:00:01\r\u001b[K    96% |██████████████████████████████▉ | 952kB 50.0MB/s eta 0:00:01\r\u001b[K    97% |███████████████████████████████▏| 962kB 54.6MB/s eta 0:00:01\r\u001b[K    98% |███████████████████████████████▌| 972kB 53.2MB/s eta 0:00:01\r\u001b[K    99% |███████████████████████████████▉| 983kB 51.0MB/s eta 0:00:01\r\u001b[K    100% |████████████████████████████████| 993kB 19.8MB/s \n",
            "\u001b[?25h  Building wheel for PyDrive (setup.py) ... \u001b[?25ldone\n",
            "\u001b[?25h"
          ],
          "name": "stdout"
        }
      ]
    },
    {
      "metadata": {
        "id": "u2Wf2ubj-atT",
        "colab_type": "code",
        "outputId": "f0d1b839-a60a-451f-9bf7-ff2737c5e759",
        "colab": {
          "base_uri": "https://localhost:8080/",
          "height": 34
        }
      },
      "cell_type": "code",
      "source": [
        "cd gdrive/'My Drive'/'Kumamoto-Univ'/'Graduationwork'/'exefolder'/"
      ],
      "execution_count": 0,
      "outputs": [
        {
          "output_type": "stream",
          "text": [
            "/content/gdrive/My Drive/Kumamoto-Univ/Graduationwork/exefolder\n"
          ],
          "name": "stdout"
        }
      ]
    },
    {
      "metadata": {
        "id": "H9c6rYVo-JKl",
        "colab_type": "code",
        "outputId": "bccc122a-acf7-4084-a694-dde3098d990c",
        "colab": {
          "base_uri": "https://localhost:8080/",
          "height": 355
        }
      },
      "cell_type": "code",
      "source": [
        "import numpy as np\n",
        "import os\n",
        "import scipy.fftpack\n",
        "from pylab import *\n",
        "import pandas as pd\n",
        "import scipy as sp\n",
        "import matplotlib.pyplot as plt \n",
        "from scipy.signal import butter, filtfilt \n",
        "import math\n",
        "import csv\n",
        "\n",
        "\n",
        "\n",
        "# 訓練データのフォルダのパス\n",
        "train_folder_name = \"train_folder_name\"\n",
        "\n",
        "# # 検証データのフォルダのパス\n",
        "# test_folder_name = \"test_folder_name\"\n",
        "\n",
        "\n",
        "trainFolder = os.listdir(train_folder_name)\n",
        "# testFolder = os.listdir(test_folder_name)\n",
        "\n",
        "os.makedirs(\"train_soc321\")\n",
        "for i,d in enumerate(trainFolder):\n",
        "   \n",
        "    if d != \".DS_Store\":\n",
        "        dir_path = 'train_soc321/' + d +'_soc321'\n",
        "        os.makedirs(dir_path,exist_ok=True)\n",
        "        #フォルダ内のファイルのリストを取得\n",
        "        files = os.listdir(train_folder_name + '/'+d)\n",
        "        print(files)\n",
        "        #ファイル毎にみる\n",
        "        for f in files:\n",
        "                            \n",
        "            #.DS_Storeをどかす\n",
        "            if f != \".DS_Store\":\n",
        "                #どのファイルを見ているか確認用\n",
        "                print(\"load:\"+f)\n",
        "\n",
        "                datafile_path = train_folder_name + '/' + d+'/'+f\n",
        "\n",
        "                #csvから読み込み\n",
        "                data = np.loadtxt(datafile_path, delimiter=\",\")     #pbldata用\n",
        "\n",
        "                #データ取り出し\n",
        "                csv_x = data[1, :]\n",
        "                csv_y = data[2, :]\n",
        "                csv_z = data[3, :]\n",
        "                \n",
        "                csv=csv_x+csv_y+csv_z\n",
        "              \n",
        "                SoC321 = []\n",
        "                \n",
        "                SoC321.append(csv)\n",
        "                \n",
        "                path_w = 'train_soc321/' + d +\"_soc321\" +'/' + f\n",
        "                path_w = path_w.replace(\".csv\" , \"_soc321.csv\")\n",
        "                np.savetxt(path_w, SoC321, delimiter=\",\")\n",
        "                upload_file_2 = drive.CreateFile()\n",
        "                upload_file_2.SetContentFile(path_w)\n",
        "                upload_file_2.Upload()\n",
        "\n",
        "            else:\n",
        "                print(\".ds_storeを除去\")\n",
        "    else:\n",
        "        print(\"ds_storeを抹殺\")\n",
        "        \n",
        "print(\"transformed\")\n"
      ],
      "execution_count": 0,
      "outputs": [
        {
          "output_type": "error",
          "ename": "FileExistsError",
          "evalue": "ignored",
          "traceback": [
            "\u001b[0;31m---------------------------------------------------------------------------\u001b[0m",
            "\u001b[0;31mFileExistsError\u001b[0m                           Traceback (most recent call last)",
            "\u001b[0;32m<ipython-input-6-f2f8287e73f4>\u001b[0m in \u001b[0;36m<module>\u001b[0;34m()\u001b[0m\n\u001b[1;32m     22\u001b[0m \u001b[0;31m# testFolder = os.listdir(test_folder_name)\u001b[0m\u001b[0;34m\u001b[0m\u001b[0;34m\u001b[0m\u001b[0;34m\u001b[0m\u001b[0m\n\u001b[1;32m     23\u001b[0m \u001b[0;34m\u001b[0m\u001b[0m\n\u001b[0;32m---> 24\u001b[0;31m \u001b[0mos\u001b[0m\u001b[0;34m.\u001b[0m\u001b[0mmakedirs\u001b[0m\u001b[0;34m(\u001b[0m\u001b[0;34m\"train_sa321\"\u001b[0m\u001b[0;34m)\u001b[0m\u001b[0;34m\u001b[0m\u001b[0;34m\u001b[0m\u001b[0m\n\u001b[0m\u001b[1;32m     25\u001b[0m \u001b[0;32mfor\u001b[0m \u001b[0mi\u001b[0m\u001b[0;34m,\u001b[0m\u001b[0md\u001b[0m \u001b[0;32min\u001b[0m \u001b[0menumerate\u001b[0m\u001b[0;34m(\u001b[0m\u001b[0mtrainFolder\u001b[0m\u001b[0;34m)\u001b[0m\u001b[0;34m:\u001b[0m\u001b[0;34m\u001b[0m\u001b[0;34m\u001b[0m\u001b[0m\n\u001b[1;32m     26\u001b[0m \u001b[0;34m\u001b[0m\u001b[0m\n",
            "\u001b[0;32m/usr/lib/python3.6/os.py\u001b[0m in \u001b[0;36mmakedirs\u001b[0;34m(name, mode, exist_ok)\u001b[0m\n\u001b[1;32m    218\u001b[0m             \u001b[0;32mreturn\u001b[0m\u001b[0;34m\u001b[0m\u001b[0;34m\u001b[0m\u001b[0m\n\u001b[1;32m    219\u001b[0m     \u001b[0;32mtry\u001b[0m\u001b[0;34m:\u001b[0m\u001b[0;34m\u001b[0m\u001b[0;34m\u001b[0m\u001b[0m\n\u001b[0;32m--> 220\u001b[0;31m         \u001b[0mmkdir\u001b[0m\u001b[0;34m(\u001b[0m\u001b[0mname\u001b[0m\u001b[0;34m,\u001b[0m \u001b[0mmode\u001b[0m\u001b[0;34m)\u001b[0m\u001b[0;34m\u001b[0m\u001b[0;34m\u001b[0m\u001b[0m\n\u001b[0m\u001b[1;32m    221\u001b[0m     \u001b[0;32mexcept\u001b[0m \u001b[0mOSError\u001b[0m\u001b[0;34m:\u001b[0m\u001b[0;34m\u001b[0m\u001b[0;34m\u001b[0m\u001b[0m\n\u001b[1;32m    222\u001b[0m         \u001b[0;31m# Cannot rely on checking for EEXIST, since the operating system\u001b[0m\u001b[0;34m\u001b[0m\u001b[0;34m\u001b[0m\u001b[0;34m\u001b[0m\u001b[0m\n",
            "\u001b[0;31mFileExistsError\u001b[0m: [Errno 17] File exists: 'train_sa321'"
          ]
        }
      ]
    }
  ]
}